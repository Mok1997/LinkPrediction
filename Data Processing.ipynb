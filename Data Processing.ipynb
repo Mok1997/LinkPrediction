{
 "cells": [
  {
   "cell_type": "code",
   "execution_count": 303,
   "metadata": {},
   "outputs": [],
   "source": [
    "import torch\n",
    "import random\n",
    "import numpy as np\n",
    "import networkx as nx\n",
    "import matplotlib.pyplot as plt\n",
    "\n",
    "from torch.autograd import Variable"
   ]
  },
  {
   "cell_type": "code",
   "execution_count": 31,
   "metadata": {},
   "outputs": [],
   "source": [
    "def read_data():\n",
    "    with open('D:\\\\BDT lecture notes\\\\5008(Social Computing)\\\\fb\\\\facebook_combined.txt','rb') as f:\n",
    "        data = f.readlines()\n",
    "    \n",
    "    data = [bytes.decode(r).strip('\\n') for r in data]\n",
    "    data = [r.split(' ') for r in data]\n",
    "    data = [[int(r[0]),int(r[1])] for r in data]\n",
    "    data = [tuple(pair) for pair in data]\n",
    "    \n",
    "    return data"
   ]
  },
  {
   "cell_type": "code",
   "execution_count": 32,
   "metadata": {},
   "outputs": [],
   "source": [
    "def produce_adj(data):\n",
    "    all_node = []\n",
    "    for pair in data:\n",
    "        all_node.append(pair[0])\n",
    "        all_node.append(pair[1])\n",
    "    all_node = list(set(all_node))\n",
    "    adj = np.zeros([len(all_node),len(all_node)])\n",
    "    for pair in data:\n",
    "        adj[pair[0],pair[1]] = 1\n",
    "        adj[pair[1],pair[0]] = 1\n",
    "    return adj"
   ]
  },
  {
   "cell_type": "markdown",
   "metadata": {},
   "source": [
    "# 读取数据"
   ]
  },
  {
   "cell_type": "code",
   "execution_count": 211,
   "metadata": {},
   "outputs": [],
   "source": [
    "data= read_data()\n",
    "adj = produce_adj(data)  #包含全部数据的邻接矩阵"
   ]
  },
  {
   "cell_type": "code",
   "execution_count": 212,
   "metadata": {},
   "outputs": [],
   "source": [
    "ix = np.array(list(range(adj.shape[0])))     "
   ]
  },
  {
   "cell_type": "markdown",
   "metadata": {},
   "source": [
    "# 选取了列编号为1888的用户，其所有粉丝张成一个community"
   ]
  },
  {
   "cell_type": "markdown",
   "metadata": {},
   "source": [
    "因为他粉丝最多，有需要也可以选其他人"
   ]
  },
  {
   "cell_type": "code",
   "execution_count": 213,
   "metadata": {},
   "outputs": [],
   "source": [
    "l = list(ix * adj[:,1888])\n",
    "l = [int(r) for r in l if r!=0]"
   ]
  },
  {
   "cell_type": "code",
   "execution_count": 251,
   "metadata": {},
   "outputs": [],
   "source": [
    "community = adj[np.ix_(l,l)]\n",
    "\n",
    "#community是这个圈子构成的社交网络的adjacency matrix"
   ]
  },
  {
   "cell_type": "code",
   "execution_count": 37,
   "metadata": {},
   "outputs": [],
   "source": [
    "#data_sub = []\n",
    "#for i in range(community.shape[0]):\n",
    "#    for j in range(community.shape[1]):\n",
    "#        if community[i,j]:\n",
    "#            data_sub.append(tuple([l[i],l[j]]))"
   ]
  },
  {
   "cell_type": "code",
   "execution_count": 38,
   "metadata": {},
   "outputs": [],
   "source": [
    "#G = nx.Graph()\n",
    "#G.add_edges_from(data_sub)"
   ]
  },
  {
   "cell_type": "code",
   "execution_count": 374,
   "metadata": {},
   "outputs": [],
   "source": [
    "Community = Variable(torch.tensor(community),requires_grad=True)\n",
    "Ones_1n = torch.ones([1,Community.shape[0]]).type(torch.DoubleTensor)   #方便起见，先写好矩阵对应的1向量，常用\n",
    "Ones_n1 = torch.ones([Community.shape[0],1]).type(torch.DoubleTensor)"
   ]
  },
  {
   "cell_type": "markdown",
   "metadata": {},
   "source": [
    "# 七个统计量"
   ]
  },
  {
   "cell_type": "code",
   "execution_count": 343,
   "metadata": {},
   "outputs": [],
   "source": [
    "#Clustering coefficient\n",
    "triangle = (np.matmul(community,community)*community)\n",
    "triangle = np.matmul(triangle,np.ones([triangle.shape[0],1])).T/2\n",
    "degree = np.matmul(np.ones([1,community.shape[0]]),community)# + np.matmul(community,np.ones([community.shape[0],1])).T\n",
    "degree_2 = degree * (degree-1)\n",
    "clust_coef = 2*triangle/degree_2"
   ]
  },
  {
   "cell_type": "code",
   "execution_count": 375,
   "metadata": {},
   "outputs": [],
   "source": [
    "#Clustering coefficient(Torch)\n",
    "Triangle = (Community.mm(Community)).mul(Community)\n",
    "Triangle = Triangle.mm(Ones_n1).T/2\n",
    "Degree = Ones_1n.mm(Community)\n",
    "Degree_2 = Degree.mul(Degree-1)\n",
    "Clust_coef = 2 * Triangle/Degree_2"
   ]
  },
  {
   "cell_type": "code",
   "execution_count": null,
   "metadata": {},
   "outputs": [],
   "source": []
  },
  {
   "cell_type": "code",
   "execution_count": 371,
   "metadata": {},
   "outputs": [],
   "source": [
    "#Degrees\n",
    "degree = np.matmul(np.ones([1,community.shape[0]]),community)"
   ]
  },
  {
   "cell_type": "code",
   "execution_count": 384,
   "metadata": {},
   "outputs": [],
   "source": [
    "#Degree(Torch)\n",
    "Degree = Ones_1n.mm(Community)"
   ]
  },
  {
   "cell_type": "code",
   "execution_count": null,
   "metadata": {},
   "outputs": [],
   "source": []
  },
  {
   "cell_type": "code",
   "execution_count": 381,
   "metadata": {},
   "outputs": [],
   "source": [
    "#average degree of neibourhood\n",
    "degree = np.matmul(np.ones([1,community.shape[0]]),community)\n",
    "neibour_degree = np.matmul(degree,community) * np.ones([1,community.shape[0]])/degree"
   ]
  },
  {
   "cell_type": "code",
   "execution_count": 382,
   "metadata": {},
   "outputs": [],
   "source": [
    "#average degree of neibourhood(Torch)\n",
    "Degree = Ones_1n.mm(Community)\n",
    "Neibour_degree = (Degree.mm(Community)).mul(Ones_1n)/Degree"
   ]
  },
  {
   "cell_type": "code",
   "execution_count": null,
   "metadata": {},
   "outputs": [],
   "source": []
  },
  {
   "cell_type": "code",
   "execution_count": 387,
   "metadata": {},
   "outputs": [],
   "source": [
    "#average clustering coef of neibourhood\n",
    "triangle = (np.matmul(community,community)*community)\n",
    "triangle = np.matmul(triangle,np.ones([triangle.shape[0],1])).T/2\n",
    "degree = np.matmul(np.ones([1,community.shape[0]]),community)# + np.matmul(community,np.ones([community.shape[0],1])).T\n",
    "degree_2 = degree * (degree-1)\n",
    "clust_coef = 2*triangle/degree_2\n",
    "neibour_clust_coef = np.matmul(clust_coef,community)\n",
    "neibour_aver_clust_coef = neibour_clust_coef * np.ones([1,community.shape[0]])/degree"
   ]
  },
  {
   "cell_type": "code",
   "execution_count": 388,
   "metadata": {},
   "outputs": [],
   "source": [
    "#average clustering coef of neibourhood(Torch)\n",
    "Triangle = (Community.mm(Community)).mul(Community)\n",
    "Triangle = Triangle.mm(Ones_n1).T/2\n",
    "Degree = Ones_1n.mm(Community)\n",
    "Degree_2 = Degree.mul(Degree-1)\n",
    "Clust_coef = 2 * Triangle/Degree_2\n",
    "Neibour_clust_coef = Clust_coef.mm(Community)\n",
    "Neibour_aver_clust_coef = Neibour_clust_coef.mul(Ones_1n)/Degree"
   ]
  },
  {
   "cell_type": "code",
   "execution_count": 236,
   "metadata": {},
   "outputs": [],
   "source": [
    "# number of edges in the neighborhood\n",
    "edge_ego = np.zeros([1,community.shape[0]])\n",
    "for i in range(community.shape[0]):\n",
    "    t = np.matmul(np.matmul(np.ones([1,community.shape[0]]),community[[i],:] * community * community[:,[i]]),np.ones([community.shape[0],1]))/community[[i],:].sum()\n",
    "    edge_ego[0,i] = t"
   ]
  },
  {
   "cell_type": "code",
   "execution_count": null,
   "metadata": {},
   "outputs": [],
   "source": []
  },
  {
   "cell_type": "code",
   "execution_count": 254,
   "metadata": {},
   "outputs": [],
   "source": [
    "#number of outgoing edges from the neighborhood\n",
    "mid = community.copy()\n",
    "mid+=np.diag(np.ones([community.shape[0]]))\n",
    "out_edge_neibour = np.zeros([1,community.shape[0]])\n",
    "for i in range(mid.shape[0]):\n",
    "    out_edge_neibour[0,i] = np.diag(mid - mid[[i],:] * mid * mid[:,[i]]).sum()"
   ]
  },
  {
   "cell_type": "code",
   "execution_count": null,
   "metadata": {},
   "outputs": [],
   "source": []
  },
  {
   "cell_type": "code",
   "execution_count": 295,
   "metadata": {},
   "outputs": [],
   "source": [
    "# number of neighbors of neighbors (not in neighborhood)\n",
    "mid = community.copy()\n",
    "mid+=np.diag(np.ones([mid.shape[0]]))\n",
    "neibour_neibour = np.zeros([1,community.shape[0]])\n",
    "for i in range(mid.shape[0]):\n",
    "    neibour = mid - mid[[i],:] * mid * mid[:,[i]]\n",
    "    d = np.diag(neibour)\n",
    "    neibour_neibour[0,i]=np.sum(d.reshape(1,-1)*neibour*d.reshape(-1,1))"
   ]
  },
  {
   "cell_type": "code",
   "execution_count": null,
   "metadata": {},
   "outputs": [],
   "source": []
  },
  {
   "cell_type": "code",
   "execution_count": null,
   "metadata": {},
   "outputs": [],
   "source": []
  },
  {
   "cell_type": "code",
   "execution_count": null,
   "metadata": {},
   "outputs": [],
   "source": []
  },
  {
   "cell_type": "code",
   "execution_count": 283,
   "metadata": {},
   "outputs": [],
   "source": [
    "tmp = np.array([[0,0,1,1,0],[0,0,1,1,1],[1,1,0,1,1],[1,1,1,0,1],[0,1,1,1,0]]).astype(float)\n",
    "tmp+=np.diag(np.ones([tmp.shape[0]]))"
   ]
  },
  {
   "cell_type": "code",
   "execution_count": 284,
   "metadata": {
    "scrolled": true
   },
   "outputs": [
    {
     "name": "stdout",
     "output_type": "stream",
     "text": [
      "[[0. 0. 0. 0. 0.]\n",
      " [0. 1. 0. 0. 1.]\n",
      " [0. 0. 0. 0. 0.]\n",
      " [0. 0. 0. 0. 0.]\n",
      " [0. 1. 0. 0. 1.]]\n"
     ]
    }
   ],
   "source": [
    "neibour = tmp - tmp[[0],:] * tmp * tmp[:,[0]]\n",
    "d = np.diag(neibour)\n",
    "print(d.reshape(1,-1)*neibour*d.reshape(-1,1))\n"
   ]
  },
  {
   "cell_type": "code",
   "execution_count": null,
   "metadata": {},
   "outputs": [],
   "source": []
  },
  {
   "cell_type": "code",
   "execution_count": null,
   "metadata": {},
   "outputs": [],
   "source": []
  }
 ],
 "metadata": {
  "kernelspec": {
   "display_name": "Python 3",
   "language": "python",
   "name": "python3"
  },
  "language_info": {
   "codemirror_mode": {
    "name": "ipython",
    "version": 3
   },
   "file_extension": ".py",
   "mimetype": "text/x-python",
   "name": "python",
   "nbconvert_exporter": "python",
   "pygments_lexer": "ipython3",
   "version": "3.7.4"
  }
 },
 "nbformat": 4,
 "nbformat_minor": 2
}
