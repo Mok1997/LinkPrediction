{
 "cells": [
  {
   "cell_type": "code",
   "execution_count": 180,
   "metadata": {},
   "outputs": [],
   "source": [
    "import torch\n",
    "import random\n",
    "import numpy as np\n",
    "import networkx as nx\n",
    "import matplotlib.pyplot as plt\n",
    "import math\n",
    "from torch.autograd import Variable\n",
    "from torch.nn.functional import relu"
   ]
  },
  {
   "cell_type": "code",
   "execution_count": 2,
   "metadata": {},
   "outputs": [],
   "source": [
    "def read_data():\n",
    "    with open('D:\\\\BDT lecture notes\\\\5008(Social Computing)\\\\fb\\\\facebook_combined.txt','rb') as f:\n",
    "        data = f.readlines()\n",
    "    \n",
    "    data = [bytes.decode(r).strip('\\n') for r in data]\n",
    "    data = [r.split(' ') for r in data]\n",
    "    data = [[int(r[0]),int(r[1])] for r in data]\n",
    "    data = [tuple(pair) for pair in data]\n",
    "    \n",
    "    return data"
   ]
  },
  {
   "cell_type": "code",
   "execution_count": 3,
   "metadata": {},
   "outputs": [],
   "source": [
    "def produce_adj(data):\n",
    "    all_node = []\n",
    "    for pair in data:\n",
    "        all_node.append(pair[0])\n",
    "        all_node.append(pair[1])\n",
    "    all_node = list(set(all_node))\n",
    "    adj = np.zeros([len(all_node),len(all_node)])\n",
    "    for pair in data:\n",
    "        adj[pair[0],pair[1]] = 1\n",
    "        adj[pair[1],pair[0]] = 1\n",
    "    return adj"
   ]
  },
  {
   "cell_type": "markdown",
   "metadata": {},
   "source": [
    "# 读取数据"
   ]
  },
  {
   "cell_type": "code",
   "execution_count": 4,
   "metadata": {},
   "outputs": [],
   "source": [
    "data= read_data()\n",
    "adj = produce_adj(data)  #包含全部数据的邻接矩阵"
   ]
  },
  {
   "cell_type": "code",
   "execution_count": 5,
   "metadata": {},
   "outputs": [],
   "source": [
    "ix = np.array(list(range(adj.shape[0])))     "
   ]
  },
  {
   "cell_type": "markdown",
   "metadata": {},
   "source": [
    "# 选取了列编号为1888的用户，其所有粉丝张成一个community"
   ]
  },
  {
   "cell_type": "markdown",
   "metadata": {},
   "source": [
    "因为他粉丝最多，有需要也可以选其他人"
   ]
  },
  {
   "cell_type": "code",
   "execution_count": 181,
   "metadata": {},
   "outputs": [],
   "source": [
    "l = list(ix * adj[:,1888])\n",
    "l = [int(r) for r in l if r!=0]"
   ]
  },
  {
   "cell_type": "code",
   "execution_count": 182,
   "metadata": {},
   "outputs": [],
   "source": [
    "community = adj[np.ix_(l,l)]\n",
    "\n",
    "#community是这个圈子构成的社交网络的adjacency matrix"
   ]
  },
  {
   "cell_type": "code",
   "execution_count": 185,
   "metadata": {},
   "outputs": [],
   "source": [
    "Community = 2/math.pi*torch.atan(relu(Variable(torch.tensor(100 * community),requires_grad=True)))\n",
    "\n",
    "Ones_1n = torch.ones([1,Community.shape[0]]).type(torch.DoubleTensor)   #方便起见，先写好矩阵对应的1向量，常用\n",
    "Ones_n1 = torch.ones([Community.shape[0],1]).type(torch.DoubleTensor)"
   ]
  },
  {
   "cell_type": "code",
   "execution_count": 186,
   "metadata": {
    "scrolled": true
   },
   "outputs": [
    {
     "data": {
      "text/plain": [
       "tensor([[0.0000, 0.9936, 0.9936,  ..., 0.9936, 0.9936, 0.9936],\n",
       "        [0.9936, 0.0000, 0.0000,  ..., 0.0000, 0.0000, 0.0000],\n",
       "        [0.9936, 0.0000, 0.0000,  ..., 0.9936, 0.0000, 0.0000],\n",
       "        ...,\n",
       "        [0.9936, 0.0000, 0.9936,  ..., 0.0000, 0.0000, 0.0000],\n",
       "        [0.9936, 0.0000, 0.0000,  ..., 0.0000, 0.0000, 0.9936],\n",
       "        [0.9936, 0.0000, 0.0000,  ..., 0.0000, 0.9936, 0.0000]],\n",
       "       dtype=torch.float64, grad_fn=<MulBackward0>)"
      ]
     },
     "execution_count": 186,
     "metadata": {},
     "output_type": "execute_result"
    }
   ],
   "source": [
    "Community"
   ]
  },
  {
   "cell_type": "markdown",
   "metadata": {},
   "source": [
    "# 七个统计量"
   ]
  },
  {
   "cell_type": "code",
   "execution_count": 112,
   "metadata": {},
   "outputs": [],
   "source": [
    "def Skewness(series):\n",
    "    mean = torch.mean(series)\n",
    "    diffs = Degree - mean\n",
    "    var = torch.mean(torch.pow(diffs, 2.0))\n",
    "    std = torch.pow(var, 0.5)\n",
    "    zscores = diffs / std\n",
    "    skews = torch.mean(torch.pow(zscores, 3.0))\n",
    "    return skews\n",
    "\n",
    "def Kurtoses(series):\n",
    "    mean = torch.mean(series)\n",
    "    diffs = Degree - mean\n",
    "    var = torch.mean(torch.pow(diffs, 2.0))\n",
    "    std = torch.pow(var, 0.5)\n",
    "    zscores = diffs / std\n",
    "    kurtoses = torch.mean(torch.pow(zscores, 4.0)) - 3.0\n",
    "    return kurtoses\n",
    "\n",
    "def Canberra(y,y_pred):\n",
    "    return torch.sum(torch.abs(y.view_as(y_pred) - y_pred) / (y_pred + y.view_as(y_pred)))"
   ]
  },
  {
   "cell_type": "code",
   "execution_count": null,
   "metadata": {},
   "outputs": [],
   "source": []
  },
  {
   "cell_type": "code",
   "execution_count": 9,
   "metadata": {},
   "outputs": [],
   "source": [
    "#Clustering coefficient\n",
    "triangle = (np.matmul(community,community)*community)\n",
    "triangle = np.matmul(triangle,np.ones([triangle.shape[0],1])).T/2\n",
    "degree = np.matmul(np.ones([1,community.shape[0]]),community)# + np.matmul(community,np.ones([community.shape[0],1])).T\n",
    "degree_2 = degree * (degree-1)\n",
    "clust_coef = 2*triangle/degree_2"
   ]
  },
  {
   "cell_type": "code",
   "execution_count": 10,
   "metadata": {},
   "outputs": [],
   "source": [
    "#Clustering coefficient(Torch)\n",
    "Triangle = (Community.mm(Community)).mul(Community)\n",
    "Triangle = Triangle.mm(Ones_n1).T/2\n",
    "Degree = Ones_1n.mm(Community)\n",
    "Degree_2 = Degree.mul(Degree-1)\n",
    "Clust_coef = 2 * Triangle/Degree_2"
   ]
  },
  {
   "cell_type": "code",
   "execution_count": null,
   "metadata": {},
   "outputs": [],
   "source": []
  },
  {
   "cell_type": "code",
   "execution_count": 11,
   "metadata": {},
   "outputs": [],
   "source": [
    "#Degrees\n",
    "degree = np.matmul(np.ones([1,community.shape[0]]),community)"
   ]
  },
  {
   "cell_type": "code",
   "execution_count": 12,
   "metadata": {},
   "outputs": [],
   "source": [
    "#Degree(Torch)\n",
    "Degree = Ones_1n.mm(Community)"
   ]
  },
  {
   "cell_type": "code",
   "execution_count": null,
   "metadata": {},
   "outputs": [],
   "source": []
  },
  {
   "cell_type": "code",
   "execution_count": 13,
   "metadata": {},
   "outputs": [],
   "source": [
    "#average degree of neibourhood\n",
    "degree = np.matmul(np.ones([1,community.shape[0]]),community)\n",
    "neibour_degree = np.matmul(degree,community) * np.ones([1,community.shape[0]])/degree"
   ]
  },
  {
   "cell_type": "code",
   "execution_count": 14,
   "metadata": {},
   "outputs": [],
   "source": [
    "#average degree of neibourhood(Torch)\n",
    "Degree = Ones_1n.mm(Community)\n",
    "Neibour_degree = (Degree.mm(Community)).mul(Ones_1n)/Degree"
   ]
  },
  {
   "cell_type": "code",
   "execution_count": null,
   "metadata": {},
   "outputs": [],
   "source": []
  },
  {
   "cell_type": "code",
   "execution_count": 15,
   "metadata": {},
   "outputs": [],
   "source": [
    "#average clustering coef of neibourhood\n",
    "triangle = (np.matmul(community,community)*community)\n",
    "triangle = np.matmul(triangle,np.ones([triangle.shape[0],1])).T/2\n",
    "degree = np.matmul(np.ones([1,community.shape[0]]),community)# + np.matmul(community,np.ones([community.shape[0],1])).T\n",
    "degree_2 = degree * (degree-1)\n",
    "clust_coef = 2*triangle/degree_2\n",
    "neibour_clust_coef = np.matmul(clust_coef,community)\n",
    "neibour_aver_clust_coef = neibour_clust_coef * np.ones([1,community.shape[0]])/degree"
   ]
  },
  {
   "cell_type": "code",
   "execution_count": 16,
   "metadata": {},
   "outputs": [],
   "source": [
    "#average clustering coef of neibourhood(Torch)\n",
    "Triangle = (Community.mm(Community)).mul(Community)\n",
    "Triangle = Triangle.mm(Ones_n1).T/2\n",
    "Degree = Ones_1n.mm(Community)\n",
    "Degree_2 = Degree.mul(Degree-1)\n",
    "Clust_coef = 2 * Triangle/Degree_2\n",
    "Neibour_clust_coef = Clust_coef.mm(Community)\n",
    "Neibour_aver_clust_coef = Neibour_clust_coef.mul(Ones_1n)/Degree"
   ]
  },
  {
   "cell_type": "code",
   "execution_count": null,
   "metadata": {},
   "outputs": [],
   "source": []
  },
  {
   "cell_type": "code",
   "execution_count": 17,
   "metadata": {},
   "outputs": [],
   "source": [
    "# number of edges in the neighborhood\n",
    "edge_ego = np.zeros([1,community.shape[0]])\n",
    "for i in range(community.shape[0]):\n",
    "    t = np.matmul(np.matmul(np.ones([1,community.shape[0]]),community[[i],:] * community * community[:,[i]]),np.ones([community.shape[0],1]))/community[[i],:].sum()\n",
    "    edge_ego[0,i] = t"
   ]
  },
  {
   "cell_type": "code",
   "execution_count": 31,
   "metadata": {},
   "outputs": [],
   "source": [
    "# number of edges in the neighborhood(Torch)\n",
    "Edge_ego = torch.zeros([1,Community.shape[0]])\n",
    "for i in range(community.shape[0]):\n",
    "    Edge_ego[0,i] = Ones_1n.mm(Community[[i],:].mul(Community).mul(Community[:,[i]])).mm(Ones_n1)/Community[[i],:].sum()"
   ]
  },
  {
   "cell_type": "code",
   "execution_count": null,
   "metadata": {},
   "outputs": [],
   "source": []
  },
  {
   "cell_type": "code",
   "execution_count": 65,
   "metadata": {},
   "outputs": [],
   "source": [
    "#number of outgoing edges from the neighborhood\n",
    "mid = community.copy()\n",
    "mid+=np.diag(np.ones([community.shape[0]]))\n",
    "out_edge_neibour = np.zeros([1,community.shape[0]])\n",
    "for i in range(mid.shape[0]):\n",
    "    out_edge_neibour[0,i] = np.diag(mid - mid[[i],:] * mid * mid[:,[i]]).sum()"
   ]
  },
  {
   "cell_type": "code",
   "execution_count": 62,
   "metadata": {},
   "outputs": [],
   "source": [
    "#number of outgoing edges from the neighborhood(Torch)\n",
    "mid_1 = Community + torch.diag(torch.ones([1,Community.shape[0]]).squeeze())\n",
    "Out_edge_neibour = torch.zeros([1,Community.shape[0]])\n",
    "for i in range(mid_1.shape[0]):\n",
    "    Out_edge_neibour[0,i] = torch.diag(mid_1 - mid_1[[i],:].mul(mid_1).mul(mid_1[:,[i]])).sum()"
   ]
  },
  {
   "cell_type": "code",
   "execution_count": null,
   "metadata": {},
   "outputs": [],
   "source": []
  },
  {
   "cell_type": "code",
   "execution_count": 85,
   "metadata": {},
   "outputs": [],
   "source": [
    "# number of neighbors of neighbors (not in neighborhood)\n",
    "mid = community.copy()\n",
    "mid+=np.diag(np.ones([mid.shape[0]]))\n",
    "neibour_neibour = np.zeros([1,community.shape[0]])\n",
    "for i in range(mid.shape[0]):\n",
    "    neibour = mid - mid[[i],:] * mid * mid[:,[i]]\n",
    "    d = np.diag(neibour)\n",
    "    neibour_neibour[0,i]=np.sum(d.reshape(1,-1)*neibour*d.reshape(-1,1))"
   ]
  },
  {
   "cell_type": "code",
   "execution_count": 82,
   "metadata": {},
   "outputs": [],
   "source": [
    "# number of neighbors of neighbors (not in neighborhood)(Torch)\n",
    "mid_2 = Community+torch.diag(torch.ones([1,Community.shape[0]]).squeeze())\n",
    "Neibour_neibour = torch.zeros([1,Community.shape[0]])\n",
    "for i in range(mid.shape[0]):\n",
    "    Neibour_neibour[0,i] = ((torch.diag(mid_2 - mid_2[[i],:].mul(mid_2).mul(mid_2[:,[i]])).reshape(1,-1)).mul(mid_2 - mid_2[[i],:].mul(mid_2).mul(mid_2[:,[i]])).mul(torch.diag(mid_2 - mid_2[[i],:].mul(mid_2).mul(mid_2[:,[i]])).reshape(-1,1))).sum()"
   ]
  },
  {
   "cell_type": "code",
   "execution_count": null,
   "metadata": {},
   "outputs": [],
   "source": []
  },
  {
   "cell_type": "code",
   "execution_count": 113,
   "metadata": {},
   "outputs": [],
   "source": [
    "Vars = [Degree,Clust_coef,Neibour_degree,Neibour_aver_clust_coef,Edge_ego,Out_edge_neibour,Neibour_neibour]"
   ]
  },
  {
   "cell_type": "code",
   "execution_count": 187,
   "metadata": {
    "scrolled": true
   },
   "outputs": [],
   "source": [
    "Netsimile = torch.zeros(7,4)\n",
    "for i in range(7):\n",
    "    Netsimile[i,0] = Vars[i].mean()\n",
    "    Netsimile[i,1] = Vars[i].std()\n",
    "    Netsimile[i,2] = 1/Skewness(Vars[i])\n",
    "    Netsimile[i,3] = 1/Kurtoses(Vars[i])\n",
    "    \n",
    "Netsimile = Netsimile.reshape(-1,1)"
   ]
  },
  {
   "cell_type": "code",
   "execution_count": null,
   "metadata": {},
   "outputs": [],
   "source": []
  },
  {
   "cell_type": "markdown",
   "metadata": {},
   "source": [
    "# 随机去除边"
   ]
  },
  {
   "cell_type": "code",
   "execution_count": 239,
   "metadata": {},
   "outputs": [],
   "source": [
    "index = []\n",
    "\n",
    "list_x = list(np.where(community == 1)[0])\n",
    "list_y = list(np.where(community == 1)[1])\n"
   ]
  },
  {
   "cell_type": "code",
   "execution_count": 240,
   "metadata": {},
   "outputs": [
    {
     "data": {
      "text/plain": [
       "[12, 34, 5, 6, 7, 88, 9]"
      ]
     },
     "execution_count": 240,
     "metadata": {},
     "output_type": "execute_result"
    }
   ],
   "source": [
    "l"
   ]
  },
  {
   "cell_type": "code",
   "execution_count": null,
   "metadata": {},
   "outputs": [],
   "source": []
  }
 ],
 "metadata": {
  "kernelspec": {
   "display_name": "Python 3",
   "language": "python",
   "name": "python3"
  },
  "language_info": {
   "codemirror_mode": {
    "name": "ipython",
    "version": 3
   },
   "file_extension": ".py",
   "mimetype": "text/x-python",
   "name": "python",
   "nbconvert_exporter": "python",
   "pygments_lexer": "ipython3",
   "version": "3.7.4"
  }
 },
 "nbformat": 4,
 "nbformat_minor": 2
}
